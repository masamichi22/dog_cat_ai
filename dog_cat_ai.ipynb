{
 "cells": [
  {
   "cell_type": "markdown",
   "id": "39d1e85d-8319-4f4a-8445-afdcc3ed7a26",
   "metadata": {},
   "source": [
    "### これは畳み込みニューラルネットワークでネット上の画像が犬顔か猫顔かを判定するシステムです\n",
    "### 以下に注意点を示します\n",
    "・事前に，PyTorch，matplotlib，PIL，requestの各ライブラリをインストールしておく\n",
    "\n",
    "・データセットがこのプログラムと同じディレクトリ内のフォルダに入っていることを確認する\n",
    "\n",
    "・network.pyがこのプログラムと同じディレクトリにあることを確認する"
   ]
  },
  {
   "cell_type": "code",
   "execution_count": 1,
   "id": "7777fea3-02e9-4ec3-9b53-e19331154bbb",
   "metadata": {},
   "outputs": [],
   "source": [
    "# dog_cat_classifier_epoch10ver\n",
    "# 必要なライブラリのインポート\n",
    "import torch\n",
    "import torchvision\n",
    "import torchvision.transforms as transforms\n",
    "import torch.nn.functional as F\n",
    "import torch.nn as nn\n",
    "import torch.optim as optim\n",
    "import matplotlib.pyplot as plt\n",
    "import requests\n",
    "\n",
    "from PIL import Image\n",
    "from io import BytesIO\n",
    "from torchinfo import summary\n",
    "from network import CNN"
   ]
  },
  {
   "cell_type": "code",
   "execution_count": 2,
   "id": "82d93a50-8d83-486f-b991-a6ae59d880c9",
   "metadata": {},
   "outputs": [
    {
     "name": "stdout",
     "output_type": "stream",
     "text": [
      "CNN(\n",
      "  (conv1): Conv2d(3, 32, kernel_size=(3, 3), stride=(1, 1), padding=(1, 1))\n",
      "  (bn1): BatchNorm2d(32, eps=1e-05, momentum=0.1, affine=True, track_running_stats=True)\n",
      "  (conv2): Conv2d(32, 64, kernel_size=(3, 3), stride=(1, 1), padding=(1, 1))\n",
      "  (bn2): BatchNorm2d(64, eps=1e-05, momentum=0.1, affine=True, track_running_stats=True)\n",
      "  (conv3): Conv2d(64, 128, kernel_size=(3, 3), stride=(1, 1), padding=(1, 1))\n",
      "  (bn3): BatchNorm2d(128, eps=1e-05, momentum=0.1, affine=True, track_running_stats=True)\n",
      "  (pool): MaxPool2d(kernel_size=2, stride=2, padding=0, dilation=1, ceil_mode=False)\n",
      "  (fc1): Linear(in_features=32768, out_features=256, bias=True)\n",
      "  (fc2): Linear(in_features=256, out_features=2, bias=True)\n",
      ")\n"
     ]
    }
   ],
   "source": [
    "# モデル構造の可視化\n",
    "model = CNN()\n",
    "print(model)"
   ]
  },
  {
   "cell_type": "code",
   "execution_count": 3,
   "id": "ac5792f5-ca05-48f1-b353-3b42b6f451fc",
   "metadata": {
    "scrolled": true
   },
   "outputs": [
    {
     "name": "stdout",
     "output_type": "stream",
     "text": [
      "Epoch 1/40, Train Loss: 1.0569, Val Loss: 0.6114\n",
      "Epoch 2/40, Train Loss: 0.5727, Val Loss: 0.5302\n",
      "Epoch 3/40, Train Loss: 0.5262, Val Loss: 0.5244\n",
      "Epoch 4/40, Train Loss: 0.4761, Val Loss: 0.6925\n",
      "Epoch 5/40, Train Loss: 0.4305, Val Loss: 0.5863\n",
      "Epoch 6/40, Train Loss: 0.4049, Val Loss: 0.6312\n",
      "Epoch 7/40, Train Loss: 0.3518, Val Loss: 0.4625\n",
      "Epoch 8/40, Train Loss: 0.3314, Val Loss: 0.4999\n",
      "Epoch 9/40, Train Loss: 0.2751, Val Loss: 0.6110\n",
      "Epoch 10/40, Train Loss: 0.2650, Val Loss: 0.6543\n",
      "Epoch 11/40, Train Loss: 0.2149, Val Loss: 0.5932\n",
      "Epoch 12/40, Train Loss: 0.1876, Val Loss: 0.6940\n",
      "Epoch 13/40, Train Loss: 0.1470, Val Loss: 0.7305\n",
      "Epoch 14/40, Train Loss: 0.1115, Val Loss: 0.7767\n",
      "Epoch 15/40, Train Loss: 0.1042, Val Loss: 0.7458\n",
      "Epoch 16/40, Train Loss: 0.0841, Val Loss: 1.1715\n",
      "Epoch 17/40, Train Loss: 0.1072, Val Loss: 0.7311\n",
      "Epoch 18/40, Train Loss: 0.0451, Val Loss: 0.8331\n",
      "Epoch 19/40, Train Loss: 0.0383, Val Loss: 1.0610\n",
      "Epoch 20/40, Train Loss: 0.0471, Val Loss: 1.0644\n",
      "Epoch 21/40, Train Loss: 0.0499, Val Loss: 0.9440\n",
      "Epoch 22/40, Train Loss: 0.0367, Val Loss: 1.0566\n",
      "Epoch 23/40, Train Loss: 0.0275, Val Loss: 1.1701\n",
      "Epoch 24/40, Train Loss: 0.0437, Val Loss: 1.0969\n",
      "Epoch 25/40, Train Loss: 0.0368, Val Loss: 1.3429\n",
      "Epoch 26/40, Train Loss: 0.0267, Val Loss: 1.2240\n",
      "Epoch 27/40, Train Loss: 0.0168, Val Loss: 1.2015\n",
      "Epoch 28/40, Train Loss: 0.0322, Val Loss: 1.1912\n",
      "Epoch 29/40, Train Loss: 0.0744, Val Loss: 1.0492\n",
      "Epoch 30/40, Train Loss: 0.0278, Val Loss: 1.0440\n",
      "Epoch 31/40, Train Loss: 0.0173, Val Loss: 1.1287\n",
      "Epoch 32/40, Train Loss: 0.0107, Val Loss: 1.3450\n",
      "Epoch 33/40, Train Loss: 0.0706, Val Loss: 1.0093\n",
      "Epoch 34/40, Train Loss: 0.0157, Val Loss: 1.1579\n",
      "Epoch 35/40, Train Loss: 0.0096, Val Loss: 1.2480\n",
      "Epoch 36/40, Train Loss: 0.0193, Val Loss: 1.1760\n",
      "Epoch 37/40, Train Loss: 0.0140, Val Loss: 1.3104\n",
      "Epoch 38/40, Train Loss: 0.0185, Val Loss: 1.2799\n",
      "Epoch 39/40, Train Loss: 0.0132, Val Loss: 1.5918\n",
      "Epoch 40/40, Train Loss: 0.0264, Val Loss: 1.5061\n"
     ]
    }
   ],
   "source": [
    "# Data preparation\n",
    "# ここでAIを作る処理\n",
    "# Data preparation\n",
    "from network import CNN\n",
    "transform = transforms.Compose([\n",
    "    transforms.Resize((128, 128)),\n",
    "    transforms.ToTensor()\n",
    "                      ])\n",
    "\n",
    "train_dataset = torchvision.datasets.ImageFolder(root='./training_set', transform=transform)\n",
    "train_loader = torch.utils.data.DataLoader(train_dataset, batch_size=32, shuffle=True)\n",
    "\n",
    "val_dataset = torchvision.datasets.ImageFolder(root='./test_set', transform=transform)\n",
    "val_loader = torch.utils.data.DataLoader(val_dataset, batch_size=32, shuffle=False)\n",
    "\n",
    "device = torch.device(\"cuda\" if torch.cuda.is_available() else \"cpu\")\n",
    "model = CNN().to(device)\n",
    "\n",
    "# Loss function and optimizer\n",
    "criterion = nn.CrossEntropyLoss()\n",
    "optimizer = optim.Adam(model.parameters(), lr=0.001)\n",
    "\n",
    "# Training loop\n",
    "epochs = 40\n",
    "train_losses, val_losses = [], []\n",
    "\n",
    "for epoch in range(epochs):\n",
    "    model.train()\n",
    "    running_loss = 0.0\n",
    "    for images, labels in train_loader:\n",
    "        images, labels = images.to(device), labels.to(device)\n",
    "        optimizer.zero_grad()\n",
    "        outputs = model(images)\n",
    "        loss = criterion(outputs, labels)\n",
    "        loss.backward()\n",
    "        optimizer.step()\n",
    "        running_loss += loss.item() * images.size(0)\n",
    "    train_loss = running_loss / len(train_loader.dataset)\n",
    "    train_losses.append(train_loss)\n",
    "\n",
    "    # Validation\n",
    "    model.eval()\n",
    "    val_loss = 0.0\n",
    "    with torch.no_grad():\n",
    "        for images, labels in val_loader:\n",
    "            images, labels = images.to(device), labels.to(device)\n",
    "            outputs = model(images)\n",
    "            loss = criterion(outputs, labels)\n",
    "            val_loss += loss.item() * images.size(0)\n",
    "    val_loss /= len(val_loader.dataset)\n",
    "    val_losses.append(val_loss)\n",
    "\n",
    "    print(f\"Epoch {epoch + 1}/{epochs}, Train Loss: {train_loss:.4f}, Val Loss: {val_loss:.4f}\")\n"
   ]
  },
  {
   "cell_type": "code",
   "execution_count": 4,
   "id": "1fc6d9a9-4d2d-459e-b91d-4a82377e3102",
   "metadata": {},
   "outputs": [],
   "source": [
    "# モデルの保存\n",
    "torch.save(model, 'model.pth')"
   ]
  },
  {
   "cell_type": "markdown",
   "id": "72e1a214-d99d-43fa-bc44-bdd8eecd63b8",
   "metadata": {},
   "source": [
    "### 注意： これより前の処理は一回だけで良い，もう一回実行すると大変なことになる（振り出しに戻ってしまい時間がかかる）\n",
    "### モデルができたら，以下の処理を順番に実行する\n",
    "・まずは，学習曲線を描画\n",
    "\n",
    "・次に，URLから画像を取り込むための関数を作る\n",
    "\n",
    "・関数を呼び出して，ネット上の画像を取り込んで予測"
   ]
  },
  {
   "cell_type": "code",
   "execution_count": 5,
   "id": "d353db73-5046-4de3-903f-119fb6a2b333",
   "metadata": {},
   "outputs": [
    {
     "data": {
      "image/png": "[encoded data removed]",
      "text/plain": [
       "<Figure size 640x480 with 1 Axes>"
      ]
     },
     "metadata": {},
     "output_type": "display_data"
    }
   ],
   "source": [
    "# Plotting learning curves\n",
    "plt.plot(range(1, epochs + 1), train_losses, label='Train Loss')\n",
    "plt.plot(range(1, epochs + 1), val_losses, label='Val Loss')\n",
    "plt.xlabel('Epoch')\n",
    "plt.ylabel('Loss')\n",
    "plt.title('Learning Curve')\n",
    "plt.grid()\n",
    "plt.legend()\n",
    "plt.show()"
   ]
  },
  {
   "cell_type": "code",
   "execution_count": 2,
   "id": "88412e40-918e-406b-9bc6-1aa647234137",
   "metadata": {},
   "outputs": [],
   "source": [
    "model = torch.load(\"model.pth\")\n",
    "\n",
    "# URL-based prediction function\n",
    "def predict_from_url(url):\n",
    "    transform = transforms.Compose([\n",
    "    transforms.Resize((128, 128)),\n",
    "    transforms.ToTensor()\n",
    "    ])\n",
    "    response = requests.get(url)\n",
    "    img = Image.open(BytesIO(response.content)).convert('RGB')\n",
    "    img_transformed = transform(img).unsqueeze(0)  # Add batch dimension\n",
    "\n",
    "    model.eval()\n",
    "    with torch.no_grad():\n",
    "        output = model(img_transformed)\n",
    "        probability = F.softmax(output, dim=1)\n",
    "        _, predicted = torch.max(output, 1)\n",
    "        class_names = ['Cat', 'Dog']\n",
    "        return class_names[predicted.item()], probability.tolist()[0]"
   ]
  },
  {
   "cell_type": "code",
   "execution_count": 15,
   "id": "50e628a7-d5ac-41f6-aea0-efac89673357",
   "metadata": {},
   "outputs": [],
   "source": [
    "# 判定したい画像のURLをコピペ\n",
    "# url = \" \" のようにして\" \"の中にコピペする \n",
    "url = \"https://encrypted-tbn0.gstatic.com/images?q=tbn:ANd9GcSH-iBrRaJ06T05AnH_Tzijfx62m8mvBHUWEg&s\""
   ]
  },
  {
   "cell_type": "code",
   "execution_count": 16,
   "id": "62c940e3-805f-405f-9ee2-a5896626fc99",
   "metadata": {},
   "outputs": [
    {
     "name": "stdout",
     "output_type": "stream",
     "text": [
      "Predicted class: Dog\n",
      "Probability(Cat): 4.327554981031767e-10\n",
      "Probability(Dog): 1.0\n"
     ]
    }
   ],
   "source": [
    "predicted_class, probabilities = predict_from_url(url)\n",
    "print(f\"Predicted class: {predicted_class}\")\n",
    "print(f\"Probability(Cat): {probabilities[0]}\")\n",
    "print(f\"Probability(Dog): {probabilities[1]}\")"
   ]
  },
  {
   "cell_type": "code",
   "execution_count": null,
   "id": "354b5996-8583-48b1-8f74-cad3b75e780f",
   "metadata": {},
   "outputs": [],
   "source": []
  }
 ],
 "metadata": {
  "kernelspec": {
   "display_name": "Python 3 (ipykernel)",
   "language": "python",
   "name": "python3"
  },
  "language_info": {
   "codemirror_mode": {
    "name": "ipython",
    "version": 3
   },
   "file_extension": ".py",
   "mimetype": "text/x-python",
   "name": "python",
   "nbconvert_exporter": "python",
   "pygments_lexer": "ipython3",
   "version": "3.11.7"
  }
 },
 "nbformat": 4,
 "nbformat_minor": 5
}
